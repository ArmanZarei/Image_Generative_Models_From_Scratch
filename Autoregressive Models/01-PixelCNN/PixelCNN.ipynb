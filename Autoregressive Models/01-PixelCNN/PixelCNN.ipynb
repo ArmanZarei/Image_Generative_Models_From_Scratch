{
 "cells": [
  {
   "cell_type": "code",
   "execution_count": 1,
   "metadata": {},
   "outputs": [],
   "source": [
    "import torch\n",
    "import torchvision\n",
    "from torch import nn\n",
    "from torchvision import transforms\n",
    "import matplotlib.pyplot as plt\n",
    "import torch.nn.functional as F\n",
    "from datetime import datetime\n",
    "import numpy as np"
   ]
  },
  {
   "attachments": {},
   "cell_type": "markdown",
   "metadata": {},
   "source": [
    "$Kernel Receptive = ((Filter Size \\; – \\; 1) \\times Dilation Factor + 1)$\n",
    "\n",
    "$Output Size = \\frac{(Input Size \\; – \\; Kernel Receptive \\; + \\; 2 \\times Padding)}{Stride} + 1$\n",
    "\n",
    "Trying to $Output Size = Input Size$ when $stride=1 \\; \\; \\rightarrow \\;\\; Input Size = \\frac{(Input Size \\; – \\; Kernel Receptive \\; + \\; 2 \\times Padding)}{1} + 1$\n",
    "\n",
    "$\\rightarrow Input Size = \\frac{(Input Size \\; – \\; Kernel Receptive \\; + \\; 2 \\times Padding)}{1} + 1$\n",
    "\n",
    "$\\rightarrow 2 \\times Padding = Kernel Receptive - 1$\n",
    "\n",
    "$\\rightarrow 2 \\times Padding = ((Filter Size \\; – \\; 1) \\times Dilation Factor + 1) - 1$\n",
    "\n",
    "$\\rightarrow Padding = \\frac{(Filter Size \\; – \\; 1) \\times Dilation Factor}{2} $"
   ]
  },
  {
   "cell_type": "code",
   "execution_count": 2,
   "metadata": {},
   "outputs": [],
   "source": [
    "class MaskedConvolution(nn.Module):\n",
    "    def __init__(self, in_channels, out_channels, mask, dilation=1):\n",
    "        super().__init__()\n",
    "\n",
    "        kernel_size = (mask.shape[0], mask.shape[1])   \n",
    "        padding = tuple([dilation*(kernel_size[i]-1)//2 for i in range(2)]) # See Equations above\n",
    "\n",
    "        self.conv = nn.Conv2d(in_channels, out_channels, kernel_size, padding=padding, dilation=dilation)\n",
    "\n",
    "        self.register_buffer('mask', mask)\n",
    "    \n",
    "    def forward(self, x):\n",
    "        self.conv.weight.data *= self.mask\n",
    "\n",
    "        return self.conv(x)"
   ]
  },
  {
   "cell_type": "code",
   "execution_count": 3,
   "metadata": {},
   "outputs": [
    {
     "name": "stdout",
     "output_type": "stream",
     "text": [
      "torch.Size([3, 3])\n"
     ]
    },
    {
     "data": {
      "image/png": "[encoded data removed]",
      "text/plain": [
       "<Figure size 640x480 with 1 Axes>"
      ]
     },
     "metadata": {},
     "output_type": "display_data"
    }
   ],
   "source": [
    "net = nn.Sequential(\n",
    "    nn.Conv2d(1, 1, kernel_size=3, stride=1),\n",
    "    nn.Conv2d(1, 1, kernel_size=3, stride=1),\n",
    ")\n",
    "\n",
    "for n in net:\n",
    "    n.weight.data.fill_(1)\n",
    "    n.bias.data.fill_(0)\n",
    "\n",
    "a = torch.zeros(7, 7)\n",
    "a.requires_grad_()\n",
    "b = net(a[None, None, :, :])[0, 0]\n",
    "print(b.shape)\n",
    "\n",
    "i, j = 2, 2\n",
    "loss = b[i, j].sum()\n",
    "loss.backward(retain_graph=True)\n",
    "plt.imshow(a.grad);"
   ]
  },
  {
   "cell_type": "code",
   "execution_count": 4,
   "metadata": {},
   "outputs": [
    {
     "name": "stdout",
     "output_type": "stream",
     "text": [
      "torch.Size([11, 11])\n"
     ]
    },
    {
     "data": {
      "image/png": "[encoded data removed]",
      "text/plain": [
       "<Figure size 640x480 with 1 Axes>"
      ]
     },
     "metadata": {},
     "output_type": "display_data"
    }
   ],
   "source": [
    "mask = torch.tensor([\n",
    "    [1, 1, 1],\n",
    "    [1, 0, 0],\n",
    "    [0, 0, 0],\n",
    "])\n",
    "net = nn.Sequential(\n",
    "    MaskedConvolution(1, 1, mask),\n",
    "    MaskedConvolution(1, 1, mask),\n",
    "    MaskedConvolution(1, 1, mask),\n",
    ")\n",
    "\n",
    "for n in net:\n",
    "    n.conv.weight.data.fill_(1)\n",
    "    n.conv.bias.data.fill_(0)\n",
    "\n",
    "a = torch.zeros(11, 11)\n",
    "a.requires_grad_()\n",
    "b = net(a[None, None, :, :])[0, 0]\n",
    "print(b.shape)\n",
    "\n",
    "i, j = 5, 5\n",
    "loss = b[i, j].sum()\n",
    "loss.backward(retain_graph=True)\n",
    "plt.imshow(a.grad);"
   ]
  },
  {
   "cell_type": "code",
   "execution_count": 5,
   "metadata": {},
   "outputs": [
    {
     "name": "stdout",
     "output_type": "stream",
     "text": [
      "tensor([[1., 1., 1.],\n",
      "        [1., 1., 1.],\n",
      "        [0., 0., 0.]])\n",
      "tensor([[1., 1., 1.],\n",
      "        [0., 0., 0.],\n",
      "        [0., 0., 0.]])\n",
      "------------------------------\n",
      "tensor([[1., 1., 0.]])\n",
      "tensor([[1., 0., 0.]])\n"
     ]
    }
   ],
   "source": [
    "class VerticalStackConvolusion(MaskedConvolution):\n",
    "    def __init__(self, in_channels, out_channels, kernel_size=3, dilation=1, mask_center=False):\n",
    "        mask = torch.zeros(kernel_size, kernel_size)\n",
    "        mask[:kernel_size//2] = 1\n",
    "        if not mask_center:\n",
    "            mask[kernel_size//2] = 1\n",
    "        \n",
    "        super().__init__(in_channels, out_channels, mask, dilation)\n",
    "    \n",
    "\n",
    "class HorizontalStackConvolusion(MaskedConvolution):\n",
    "    def __init__(self, in_channels, out_channels, kernel_size=3, dilation=1, mask_center=False):\n",
    "        mask = torch.zeros(1, kernel_size)\n",
    "        mask[0, :kernel_size//2] = 1\n",
    "        if not mask_center:\n",
    "            mask[0, kernel_size//2] = 1\n",
    "        \n",
    "        super().__init__(in_channels, out_channels, mask, dilation)\n",
    "\n",
    "tmp = VerticalStackConvolusion(1, 1, 3, mask_center=False)\n",
    "print(tmp.mask)\n",
    "tmp = VerticalStackConvolusion(1, 1, 3, mask_center=True)\n",
    "print(tmp.mask)\n",
    "print(\"-\"*30)\n",
    "tmp = HorizontalStackConvolusion(1, 1, 3, mask_center=False)\n",
    "print(tmp.mask)\n",
    "tmp = HorizontalStackConvolusion(1, 1, 3, mask_center=True)\n",
    "print(tmp.mask)"
   ]
  },
  {
   "cell_type": "code",
   "execution_count": 6,
   "metadata": {},
   "outputs": [],
   "source": [
    "# mask = torch.tensor([\n",
    "#     [1, 1, 1],\n",
    "#     [1, 0, 0],\n",
    "#     [0, 0, 0],\n",
    "# ])\n",
    "# net = nn.Sequential(\n",
    "#     MaskedConvolution(1, 1, mask),\n",
    "#     MaskedConvolution(1, 1, mask),\n",
    "#     MaskedConvolution(1, 1, mask),\n",
    "# )\n",
    "\n",
    "# for n in net:\n",
    "#     n.conv.weight.data.fill_(1)\n",
    "#     n.conv.bias.data.fill_(0)\n",
    "\n",
    "# a = torch.zeros(11, 11)\n",
    "# a.requires_grad_()\n",
    "# b = net(a[None, None, :, :])[0, 0]\n",
    "# print(b.shape)\n",
    "\n",
    "# i, j = 2, 2\n",
    "# loss = b[i, j].sum()\n",
    "# loss.backward(retain_graph=True)\n",
    "# plt.imshow(a.grad);"
   ]
  },
  {
   "cell_type": "code",
   "execution_count": 7,
   "metadata": {},
   "outputs": [
    {
     "data": {
      "image/png": "[encoded data removed]",
      "text/plain": [
       "<Figure size 800x400 with 2 Axes>"
      ]
     },
     "metadata": {},
     "output_type": "display_data"
    }
   ],
   "source": [
    "input_img = torch.zeros(11, 11)[None, None, :, :]\n",
    "input_img.requires_grad_()\n",
    "\n",
    "vert_conv = VerticalStackConvolusion(1, 1, 3, mask_center=True)\n",
    "vert_conv.conv.weight.data.fill_(1)\n",
    "vert_conv.conv.bias.data.fill_(0)\n",
    "vert_img = vert_conv(input_img)\n",
    "\n",
    "horiz_conv = HorizontalStackConvolusion(1, 1, 3, mask_center=True)\n",
    "horiz_conv.conv.weight.data.fill_(1)\n",
    "horiz_conv.conv.bias.data.fill_(0)\n",
    "horiz_img = horiz_conv(input_img)\n",
    "\n",
    "\n",
    "horiz_conv = HorizontalStackConvolusion(1, 1, 3, mask_center=False)\n",
    "horiz_conv.conv.weight.data.fill_(1)\n",
    "horiz_conv.conv.bias.data.fill_(0)\n",
    "vert_conv = VerticalStackConvolusion(1, 1, 3, mask_center=False)\n",
    "vert_conv.conv.weight.data.fill_(1)\n",
    "vert_conv.conv.bias.data.fill_(0)\n",
    "\n",
    "for i in range(3):\n",
    "    vert_img = vert_conv(vert_img)\n",
    "    horiz_img = horiz_conv(horiz_img) + vert_img\n",
    "\n",
    "i, j = 5, 5\n",
    "loss = horiz_img[0, 0, i, j].sum()\n",
    "loss.backward(retain_graph=True)\n",
    "img_grads = input_img.grad.abs()\n",
    "input_img.grad.fill_(0)\n",
    "\n",
    "x = img_grads[0, 0]\n",
    "\n",
    "center_pixel = torch.zeros(input_img.shape[-2:] + (4,))\n",
    "center_pixel[i, j] = torch.tensor([1., 0., 0., 1.])\n",
    "\n",
    "_, axs = plt.subplots(1, 2, figsize=(8, 4))\n",
    "\n",
    "axs[0].imshow(x)\n",
    "x[x > 0] = x.max()\n",
    "axs[1].imshow(x)\n",
    "for i in range(2):\n",
    "    axs[i].imshow(center_pixel)\n",
    "plt.show()"
   ]
  },
  {
   "cell_type": "code",
   "execution_count": 8,
   "metadata": {},
   "outputs": [
    {
     "data": {
      "image/png": "[encoded data removed]",
      "text/plain": [
       "<Figure size 800x400 with 2 Axes>"
      ]
     },
     "metadata": {},
     "output_type": "display_data"
    }
   ],
   "source": [
    "i, j = 5, 5\n",
    "loss = vert_img[0, 0, i, j].sum()\n",
    "loss.backward(retain_graph=True)\n",
    "img_grads = input_img.grad.abs()\n",
    "input_img.grad.fill_(0)\n",
    "\n",
    "x = img_grads[0, 0]\n",
    "\n",
    "center_pixel = torch.zeros(input_img.shape[-2:] + (4,))\n",
    "center_pixel[i, j] = torch.tensor([1., 0., 0., 1.])\n",
    "\n",
    "_, axs = plt.subplots(1, 2, figsize=(8, 4))\n",
    "\n",
    "axs[0].imshow(x)\n",
    "x[x > 0] = x.max()\n",
    "axs[1].imshow(x)\n",
    "for i in range(2):\n",
    "    axs[i].imshow(center_pixel)\n",
    "plt.show()"
   ]
  },
  {
   "attachments": {},
   "cell_type": "markdown",
   "metadata": {},
   "source": [
    "![](https://uvadlc-notebooks.readthedocs.io/en/latest/_images/PixelCNN_GatedConv.svg)"
   ]
  },
  {
   "cell_type": "code",
   "execution_count": 9,
   "metadata": {},
   "outputs": [
    {
     "data": {
      "text/plain": [
       "(torch.Size([1, 1, 20, 20]), torch.Size([1, 1, 20, 20]))"
      ]
     },
     "execution_count": 9,
     "metadata": {},
     "output_type": "execute_result"
    }
   ],
   "source": [
    "class GatedMaskedConv(nn.Module):\n",
    "    def __init__(self, in_channels, dilation=1):\n",
    "        super().__init__()\n",
    "\n",
    "        self.conv_vertical = VerticalStackConvolusion(in_channels, in_channels*2, dilation=dilation)\n",
    "        self.conv_horizontal = HorizontalStackConvolusion(in_channels, in_channels*2, dilation=dilation)\n",
    "\n",
    "        self.conv_vertical_to_horizontal = nn.Conv2d(2*in_channels, 2*in_channels, kernel_size=1)\n",
    "        self.conv_horizontal_trans = nn.Conv2d(in_channels, in_channels, kernel_size=1)\n",
    "    \n",
    "    def forward(self, v_stack, h_stack):\n",
    "        v_stack_combined = self.conv_vertical(v_stack)\n",
    "        v_stack_1, v_stack_2 = torch.chunk(v_stack_combined, 2, 1)\n",
    "        v_stack_output = torch.tanh(v_stack_1) * torch.sigmoid(v_stack_2)\n",
    "\n",
    "        h_stack_combined = self.conv_horizontal(h_stack) + self.conv_vertical_to_horizontal(v_stack_combined)\n",
    "        h_stack_1, h_stack_2 = torch.chunk(h_stack_combined, 2, 1)\n",
    "        h_stack_output = h_stack + self.conv_horizontal_trans(torch.tanh(h_stack_1) * torch.sigmoid(h_stack_2))\n",
    "\n",
    "        return v_stack_output, h_stack_output\n",
    "\n",
    "\n",
    "a, b = GatedMaskedConv(1)(torch.randn(1, 1, 20, 20), torch.randn(1, 1, 20, 20))\n",
    "a.shape, b.shape"
   ]
  },
  {
   "cell_type": "code",
   "execution_count": 10,
   "metadata": {},
   "outputs": [
    {
     "data": {
      "text/plain": [
       "torch.Size([1, 256, 1, 28, 28])"
      ]
     },
     "execution_count": 10,
     "metadata": {},
     "output_type": "execute_result"
    }
   ],
   "source": [
    "class PixelCNN(nn.Module):\n",
    "    def __init__(self, in_channels, hidden_channels, input_transform):\n",
    "        super().__init__()\n",
    "\n",
    "        self.input_transform = input_transform\n",
    "\n",
    "        self.starting_conv_vertical = VerticalStackConvolusion(in_channels, hidden_channels, mask_center=True)\n",
    "        self.starting_conv_horizontal = HorizontalStackConvolusion(in_channels, hidden_channels, mask_center=True)\n",
    "\n",
    "        self.gated_masked_conv_layers = nn.ModuleList([\n",
    "            GatedMaskedConv(hidden_channels),\n",
    "            GatedMaskedConv(hidden_channels, dilation=2),\n",
    "            GatedMaskedConv(hidden_channels),\n",
    "            GatedMaskedConv(hidden_channels, dilation=4),\n",
    "            GatedMaskedConv(hidden_channels),\n",
    "            GatedMaskedConv(hidden_channels, dilation=2),\n",
    "            GatedMaskedConv(hidden_channels),\n",
    "        ])\n",
    "\n",
    "        self.last_conv = nn.Conv2d(hidden_channels, in_channels*256, 1)\n",
    "\n",
    "    def forward(self, x):\n",
    "        x = self.input_transform(x)\n",
    "\n",
    "        v_stack = self.starting_conv_vertical(x)\n",
    "        h_stack = self.starting_conv_horizontal(x)\n",
    "\n",
    "        for gated_masked_conv in self.gated_masked_conv_layers:\n",
    "            v_stack, h_stack = gated_masked_conv(v_stack, h_stack)\n",
    "        \n",
    "        B, C, H, W = x.shape\n",
    "        output = self.last_conv(F.elu(h_stack)).reshape(B, 256, C, H, W)\n",
    "\n",
    "        return output\n",
    "\n",
    "\n",
    "PixelCNN(in_channels=1, hidden_channels=20, input_transform=transforms.Lambda(lambda x: x))(torch.randn(1, 1, 28, 28)).shape"
   ]
  },
  {
   "cell_type": "code",
   "execution_count": 11,
   "metadata": {},
   "outputs": [],
   "source": [
    "def visualize_receptive_field(model, input_size, i, j):\n",
    "    input_img = torch.zeros(input_size, requires_grad=True)\n",
    "    output = model(input_img)\n",
    "\n",
    "    loss = output[(0,) * (output.ndim - 2) + (i, j)].sum()\n",
    "    loss.backward(retain_graph=True)\n",
    "\n",
    "    img_grads = input_img.grad.abs()\n",
    "\n",
    "    x = img_grads[0, 0]\n",
    "\n",
    "    center_pixel = torch.zeros(input_img.shape[-2:] + (4,))\n",
    "    center_pixel[i, j] = torch.tensor([1., 0., 0., 1.])\n",
    "\n",
    "    _, axs = plt.subplots(1, 2, figsize=(8, 4))\n",
    "\n",
    "    axs[0].imshow(x)\n",
    "    x[x > 0] = x.max()\n",
    "    axs[1].imshow(x)\n",
    "    for i in range(2):\n",
    "        axs[i].imshow(center_pixel)\n",
    "    plt.show()"
   ]
  },
  {
   "cell_type": "code",
   "execution_count": 13,
   "metadata": {},
   "outputs": [
    {
     "data": {
      "image/png": "[encoded data removed]",
      "text/plain": [
       "<Figure size 800x400 with 2 Axes>"
      ]
     },
     "metadata": {},
     "output_type": "display_data"
    }
   ],
   "source": [
    "visualize_receptive_field(PixelCNN(in_channels=1, hidden_channels=20, input_transform=transforms.Lambda(lambda x: x)), (1, 1, 28, 28), 14, 14)"
   ]
  },
  {
   "cell_type": "code",
   "execution_count": 14,
   "metadata": {},
   "outputs": [],
   "source": [
    "device = 'cuda' if torch.cuda.is_available() else 'cpu' "
   ]
  },
  {
   "cell_type": "code",
   "execution_count": 15,
   "metadata": {},
   "outputs": [],
   "source": [
    "model = PixelCNN(\n",
    "    in_channels=1,\n",
    "    hidden_channels=20,\n",
    "    input_transform=transforms.Lambda(lambda x: (x.float() / 255.0) * 2 - 1)\n",
    ").to(device)\n",
    "\n",
    "opt = torch.optim.Adam(model.parameters(), lr=0.001)\n",
    "scheduler = torch.optim.lr_scheduler.StepLR(opt, 1, gamma=0.98)"
   ]
  },
  {
   "cell_type": "code",
   "execution_count": 16,
   "metadata": {},
   "outputs": [],
   "source": [
    "transform = transforms.Compose([\n",
    "    transforms.ToTensor(),\n",
    "    transforms.Lambda(lambda x: (x * 255).type(torch.long))\n",
    "])\n",
    "dataset = torchvision.datasets.MNIST('../data/mnist/', train=True, transform=transform, download=False)\n",
    "dataloader = torch.utils.data.DataLoader(dataset, batch_size=64, shuffle=True)\n",
    "val_dataset = torchvision.datasets.MNIST('../data/mnist/', train=False, transform=transform, download=False)\n",
    "val_dataloader = torch.utils.data.DataLoader(val_dataset, batch_size=64, shuffle=True)"
   ]
  },
  {
   "cell_type": "code",
   "execution_count": 17,
   "metadata": {},
   "outputs": [
    {
     "name": "stdout",
     "output_type": "stream",
     "text": [
      "[2023-06-14 17:06:28] [Epoch   0] Train Loss: 1.39796  -  Validation Loss: 1.18454\n",
      "[2023-06-14 17:07:06] [Epoch   1] Train Loss: 1.16788  -  Validation Loss: 1.14894\n",
      "[2023-06-14 17:07:41] [Epoch   2] Train Loss: 1.14536  -  Validation Loss: 1.13264\n",
      "[2023-06-14 17:08:15] [Epoch   3] Train Loss: 1.13276  -  Validation Loss: 1.12243\n",
      "[2023-06-14 17:08:49] [Epoch   4] Train Loss: 1.12384  -  Validation Loss: 1.11513\n",
      "[2023-06-14 17:09:23] [Epoch   5] Train Loss: 1.11611  -  Validation Loss: 1.10613\n",
      "[2023-06-14 17:09:58] [Epoch   6] Train Loss: 1.10660  -  Validation Loss: 1.09396\n",
      "[2023-06-14 17:10:33] [Epoch   7] Train Loss: 1.09643  -  Validation Loss: 1.08309\n",
      "[2023-06-14 17:11:06] [Epoch   8] Train Loss: 1.08693  -  Validation Loss: 1.07722\n",
      "[2023-06-14 17:11:40] [Epoch   9] Train Loss: 1.07671  -  Validation Loss: 1.06654\n",
      "[2023-06-14 17:12:13] [Epoch  10] Train Loss: 1.06938  -  Validation Loss: 1.05377\n",
      "[2023-06-14 17:12:46] [Epoch  11] Train Loss: 1.05657  -  Validation Loss: 1.04081\n",
      "[2023-06-14 17:13:19] [Epoch  12] Train Loss: 1.04914  -  Validation Loss: 1.03574\n",
      "[2023-06-14 17:13:52] [Epoch  13] Train Loss: 1.04049  -  Validation Loss: 1.03562\n",
      "[2023-06-14 17:14:25] [Epoch  14] Train Loss: 1.03260  -  Validation Loss: 1.01668\n",
      "[2023-06-14 17:14:58] [Epoch  15] Train Loss: 1.02548  -  Validation Loss: 1.01602\n",
      "[2023-06-14 17:15:30] [Epoch  16] Train Loss: 1.02006  -  Validation Loss: 1.00576\n",
      "[2023-06-14 17:16:03] [Epoch  17] Train Loss: 1.01607  -  Validation Loss: 1.01574\n",
      "[2023-06-14 17:16:36] [Epoch  18] Train Loss: 1.01066  -  Validation Loss: 1.01163\n",
      "[2023-06-14 17:17:09] [Epoch  19] Train Loss: 1.00908  -  Validation Loss: 1.00108\n",
      "[2023-06-14 17:17:41] [Epoch  20] Train Loss: 1.00567  -  Validation Loss: 0.99764\n",
      "[2023-06-14 17:18:15] [Epoch  21] Train Loss: 1.00133  -  Validation Loss: 0.99179\n",
      "[2023-06-14 17:18:47] [Epoch  22] Train Loss: 0.99994  -  Validation Loss: 0.98983\n",
      "[2023-06-14 17:19:20] [Epoch  23] Train Loss: 0.99931  -  Validation Loss: 0.98851\n",
      "[2023-06-14 17:19:53] [Epoch  24] Train Loss: 0.99536  -  Validation Loss: 0.98588\n",
      "[2023-06-14 17:20:26] [Epoch  25] Train Loss: 0.99630  -  Validation Loss: 0.98343\n",
      "[2023-06-14 17:20:58] [Epoch  26] Train Loss: 0.99129  -  Validation Loss: 0.98349\n",
      "[2023-06-14 17:21:31] [Epoch  27] Train Loss: 0.99076  -  Validation Loss: 1.06247\n",
      "[2023-06-14 17:22:04] [Epoch  28] Train Loss: 0.99001  -  Validation Loss: 0.98287\n",
      "[2023-06-14 17:22:37] [Epoch  29] Train Loss: 0.98749  -  Validation Loss: 0.97833\n",
      "[2023-06-14 17:23:09] [Epoch  30] Train Loss: 0.98446  -  Validation Loss: 0.98110\n",
      "[2023-06-14 17:23:42] [Epoch  31] Train Loss: 0.98767  -  Validation Loss: 0.98046\n",
      "[2023-06-14 17:24:15] [Epoch  32] Train Loss: 0.98323  -  Validation Loss: 0.97636\n",
      "[2023-06-14 17:24:48] [Epoch  33] Train Loss: 0.98202  -  Validation Loss: 0.97161\n",
      "[2023-06-14 17:25:21] [Epoch  34] Train Loss: 0.97997  -  Validation Loss: 0.97064\n",
      "[2023-06-14 17:25:54] [Epoch  35] Train Loss: 0.97704  -  Validation Loss: 0.96994\n",
      "[2023-06-14 17:26:27] [Epoch  36] Train Loss: 0.97975  -  Validation Loss: 0.96842\n",
      "[2023-06-14 17:26:59] [Epoch  37] Train Loss: 0.97474  -  Validation Loss: 0.96687\n",
      "[2023-06-14 17:27:32] [Epoch  38] Train Loss: 0.97467  -  Validation Loss: 0.96561\n",
      "[2023-06-14 17:28:05] [Epoch  39] Train Loss: 0.97114  -  Validation Loss: 0.96529\n",
      "[2023-06-14 17:28:39] [Epoch  40] Train Loss: 0.97084  -  Validation Loss: 0.96992\n",
      "[2023-06-14 17:29:12] [Epoch  41] Train Loss: 0.97355  -  Validation Loss: 0.96640\n",
      "[2023-06-14 17:29:45] [Epoch  42] Train Loss: 0.97008  -  Validation Loss: 0.96410\n",
      "[2023-06-14 17:30:18] [Epoch  43] Train Loss: 0.96863  -  Validation Loss: 0.96035\n",
      "[2023-06-14 17:30:51] [Epoch  44] Train Loss: 0.96574  -  Validation Loss: 0.95929\n",
      "[2023-06-14 17:31:24] [Epoch  45] Train Loss: 0.96425  -  Validation Loss: 0.96324\n",
      "[2023-06-14 17:31:57] [Epoch  46] Train Loss: 0.96333  -  Validation Loss: 0.95706\n",
      "[2023-06-14 17:32:30] [Epoch  47] Train Loss: 0.96620  -  Validation Loss: 0.95548\n",
      "[2023-06-14 17:33:03] [Epoch  48] Train Loss: 0.96271  -  Validation Loss: 0.95625\n",
      "[2023-06-14 17:33:37] [Epoch  49] Train Loss: 0.96274  -  Validation Loss: 0.95431\n",
      "[2023-06-14 17:34:10] [Epoch  50] Train Loss: 0.95912  -  Validation Loss: 0.95402\n",
      "[2023-06-14 17:34:44] [Epoch  51] Train Loss: 0.95908  -  Validation Loss: 0.95604\n",
      "[2023-06-14 17:35:17] [Epoch  52] Train Loss: 0.95785  -  Validation Loss: 0.95224\n",
      "[2023-06-14 17:35:51] [Epoch  53] Train Loss: 0.95736  -  Validation Loss: 0.95417\n",
      "[2023-06-14 17:36:25] [Epoch  54] Train Loss: 0.97204  -  Validation Loss: 0.95167\n",
      "[2023-06-14 17:36:58] [Epoch  55] Train Loss: 0.95556  -  Validation Loss: 0.94960\n",
      "[2023-06-14 17:37:31] [Epoch  56] Train Loss: 0.95561  -  Validation Loss: 0.94839\n",
      "[2023-06-14 17:38:04] [Epoch  57] Train Loss: 0.95395  -  Validation Loss: 0.94889\n",
      "[2023-06-14 17:38:37] [Epoch  58] Train Loss: 0.95431  -  Validation Loss: 0.95884\n",
      "[2023-06-14 17:39:10] [Epoch  59] Train Loss: 0.95246  -  Validation Loss: 0.94688\n",
      "[2023-06-14 17:39:43] [Epoch  60] Train Loss: 0.95228  -  Validation Loss: 0.94667\n",
      "[2023-06-14 17:40:16] [Epoch  61] Train Loss: 0.95087  -  Validation Loss: 0.94569\n",
      "[2023-06-14 17:40:49] [Epoch  62] Train Loss: 0.95053  -  Validation Loss: 0.94426\n",
      "[2023-06-14 17:41:22] [Epoch  63] Train Loss: 0.95029  -  Validation Loss: 0.94342\n",
      "[2023-06-14 17:41:56] [Epoch  64] Train Loss: 0.94856  -  Validation Loss: 0.94214\n",
      "[2023-06-14 17:42:31] [Epoch  65] Train Loss: 0.94812  -  Validation Loss: 0.94264\n",
      "[2023-06-14 17:43:05] [Epoch  66] Train Loss: 0.94805  -  Validation Loss: 0.94498\n",
      "[2023-06-14 17:43:39] [Epoch  67] Train Loss: 0.94666  -  Validation Loss: 0.94049\n",
      "[2023-06-14 17:44:12] [Epoch  68] Train Loss: 0.94605  -  Validation Loss: 0.94072\n",
      "[2023-06-14 17:44:46] [Epoch  69] Train Loss: 0.94527  -  Validation Loss: 0.93972\n",
      "[2023-06-14 17:45:20] [Epoch  70] Train Loss: 0.94460  -  Validation Loss: 0.93834\n",
      "[2023-06-14 17:45:54] [Epoch  71] Train Loss: 0.94380  -  Validation Loss: 0.93849\n",
      "[2023-06-14 17:46:28] [Epoch  72] Train Loss: 0.94315  -  Validation Loss: 0.93712\n",
      "[2023-06-14 17:47:02] [Epoch  73] Train Loss: 0.94256  -  Validation Loss: 0.93735\n",
      "[2023-06-14 17:47:36] [Epoch  74] Train Loss: 0.94176  -  Validation Loss: 0.93597\n",
      "[2023-06-14 17:48:10] [Epoch  75] Train Loss: 0.94108  -  Validation Loss: 0.93531\n",
      "[2023-06-14 17:48:44] [Epoch  76] Train Loss: 0.94031  -  Validation Loss: 0.93525\n",
      "[2023-06-14 17:49:18] [Epoch  77] Train Loss: 0.93977  -  Validation Loss: 0.93366\n",
      "[2023-06-14 17:49:53] [Epoch  78] Train Loss: 0.93915  -  Validation Loss: 0.93309\n",
      "[2023-06-14 17:50:26] [Epoch  79] Train Loss: 0.93852  -  Validation Loss: 0.93218\n",
      "[2023-06-14 17:51:00] [Epoch  80] Train Loss: 0.93790  -  Validation Loss: 0.93111\n",
      "[2023-06-14 17:51:34] [Epoch  81] Train Loss: 0.93729  -  Validation Loss: 0.93139\n",
      "[2023-06-14 17:52:08] [Epoch  82] Train Loss: 0.93688  -  Validation Loss: 0.93058\n",
      "[2023-06-14 17:52:41] [Epoch  83] Train Loss: 0.93628  -  Validation Loss: 0.93145\n",
      "[2023-06-14 17:53:15] [Epoch  84] Train Loss: 0.93578  -  Validation Loss: 0.92959\n",
      "[2023-06-14 17:53:49] [Epoch  85] Train Loss: 0.93541  -  Validation Loss: 0.92996\n",
      "[2023-06-14 17:54:23] [Epoch  86] Train Loss: 0.93490  -  Validation Loss: 0.92867\n",
      "[2023-06-14 17:54:56] [Epoch  87] Train Loss: 0.93440  -  Validation Loss: 0.92835\n",
      "[2023-06-14 17:55:30] [Epoch  88] Train Loss: 0.93406  -  Validation Loss: 0.92835\n",
      "[2023-06-14 17:56:04] [Epoch  89] Train Loss: 0.93360  -  Validation Loss: 0.92843\n",
      "[2023-06-14 17:56:38] [Epoch  90] Train Loss: 0.93335  -  Validation Loss: 0.92705\n",
      "[2023-06-14 17:57:11] [Epoch  91] Train Loss: 0.93295  -  Validation Loss: 0.92668\n",
      "[2023-06-14 17:57:45] [Epoch  92] Train Loss: 0.93250  -  Validation Loss: 0.92603\n",
      "[2023-06-14 17:58:18] [Epoch  93] Train Loss: 0.93220  -  Validation Loss: 0.92662\n",
      "[2023-06-14 17:58:52] [Epoch  94] Train Loss: 0.93202  -  Validation Loss: 0.92667\n",
      "[2023-06-14 17:59:26] [Epoch  95] Train Loss: 0.93153  -  Validation Loss: 0.92551\n",
      "[2023-06-14 18:00:00] [Epoch  96] Train Loss: 0.93132  -  Validation Loss: 0.92516\n",
      "[2023-06-14 18:00:33] [Epoch  97] Train Loss: 0.93100  -  Validation Loss: 0.92483\n",
      "[2023-06-14 18:01:07] [Epoch  98] Train Loss: 0.93069  -  Validation Loss: 0.92444\n",
      "[2023-06-14 18:01:40] [Epoch  99] Train Loss: 0.93046  -  Validation Loss: 0.92447\n",
      "[2023-06-14 18:02:14] [Epoch 100] Train Loss: 0.93016  -  Validation Loss: 0.92430\n",
      "[2023-06-14 18:02:48] [Epoch 101] Train Loss: 0.93000  -  Validation Loss: 0.92371\n",
      "[2023-06-14 18:03:22] [Epoch 102] Train Loss: 0.92977  -  Validation Loss: 0.92391\n",
      "[2023-06-14 18:03:55] [Epoch 103] Train Loss: 0.92951  -  Validation Loss: 0.92384\n",
      "[2023-06-14 18:04:29] [Epoch 104] Train Loss: 0.92923  -  Validation Loss: 0.92477\n",
      "[2023-06-14 18:05:03] [Epoch 105] Train Loss: 0.92906  -  Validation Loss: 0.92289\n",
      "[2023-06-14 18:05:37] [Epoch 106] Train Loss: 0.92877  -  Validation Loss: 0.92297\n",
      "[2023-06-14 18:06:10] [Epoch 107] Train Loss: 0.92867  -  Validation Loss: 0.92275\n",
      "[2023-06-14 18:06:44] [Epoch 108] Train Loss: 0.92839  -  Validation Loss: 0.92277\n",
      "[2023-06-14 18:07:18] [Epoch 109] Train Loss: 0.92819  -  Validation Loss: 0.92264\n",
      "[2023-06-14 18:07:52] [Epoch 110] Train Loss: 0.92805  -  Validation Loss: 0.92180\n",
      "[2023-06-14 18:08:26] [Epoch 111] Train Loss: 0.92779  -  Validation Loss: 0.92170\n",
      "[2023-06-14 18:09:00] [Epoch 112] Train Loss: 0.92767  -  Validation Loss: 0.92160\n",
      "[2023-06-14 18:09:34] [Epoch 113] Train Loss: 0.92744  -  Validation Loss: 0.92191\n",
      "[2023-06-14 18:10:07] [Epoch 114] Train Loss: 0.92732  -  Validation Loss: 0.92116\n",
      "[2023-06-14 18:10:41] [Epoch 115] Train Loss: 0.92714  -  Validation Loss: 0.92120\n",
      "[2023-06-14 18:11:15] [Epoch 116] Train Loss: 0.92701  -  Validation Loss: 0.92097\n",
      "[2023-06-14 18:11:49] [Epoch 117] Train Loss: 0.92681  -  Validation Loss: 0.92089\n",
      "[2023-06-14 18:12:23] [Epoch 118] Train Loss: 0.92666  -  Validation Loss: 0.92064\n",
      "[2023-06-14 18:12:57] [Epoch 119] Train Loss: 0.92654  -  Validation Loss: 0.92106\n",
      "[2023-06-14 18:13:31] [Epoch 120] Train Loss: 0.92638  -  Validation Loss: 0.92050\n",
      "[2023-06-14 18:14:04] [Epoch 121] Train Loss: 0.92623  -  Validation Loss: 0.92097\n",
      "[2023-06-14 18:14:38] [Epoch 122] Train Loss: 0.92610  -  Validation Loss: 0.92021\n",
      "[2023-06-14 18:15:12] [Epoch 123] Train Loss: 0.92600  -  Validation Loss: 0.92069\n",
      "[2023-06-14 18:15:46] [Epoch 124] Train Loss: 0.92591  -  Validation Loss: 0.92033\n",
      "[2023-06-14 18:16:20] [Epoch 125] Train Loss: 0.92570  -  Validation Loss: 0.91997\n",
      "[2023-06-14 18:16:54] [Epoch 126] Train Loss: 0.92556  -  Validation Loss: 0.91984\n",
      "[2023-06-14 18:17:28] [Epoch 127] Train Loss: 0.92548  -  Validation Loss: 0.92045\n",
      "[2023-06-14 18:18:02] [Epoch 128] Train Loss: 0.92531  -  Validation Loss: 0.92040\n",
      "[2023-06-14 18:18:36] [Epoch 129] Train Loss: 0.92522  -  Validation Loss: 0.91944\n",
      "[2023-06-14 18:19:10] [Epoch 130] Train Loss: 0.92514  -  Validation Loss: 0.91941\n",
      "[2023-06-14 18:19:44] [Epoch 131] Train Loss: 0.92498  -  Validation Loss: 0.91928\n",
      "[2023-06-14 18:20:18] [Epoch 132] Train Loss: 0.92486  -  Validation Loss: 0.92005\n",
      "[2023-06-14 18:20:52] [Epoch 133] Train Loss: 0.92480  -  Validation Loss: 0.91921\n",
      "[2023-06-14 18:21:26] [Epoch 134] Train Loss: 0.92469  -  Validation Loss: 0.91891\n",
      "[2023-06-14 18:22:01] [Epoch 135] Train Loss: 0.92455  -  Validation Loss: 0.91986\n",
      "[2023-06-14 18:22:35] [Epoch 136] Train Loss: 0.92449  -  Validation Loss: 0.91862\n",
      "[2023-06-14 18:23:09] [Epoch 137] Train Loss: 0.92443  -  Validation Loss: 0.91864\n",
      "[2023-06-14 18:23:43] [Epoch 138] Train Loss: 0.92428  -  Validation Loss: 0.91870\n",
      "[2023-06-14 18:24:17] [Epoch 139] Train Loss: 0.92415  -  Validation Loss: 0.91894\n",
      "[2023-06-14 18:24:51] [Epoch 140] Train Loss: 0.92411  -  Validation Loss: 0.91902\n",
      "[2023-06-14 18:25:25] [Epoch 141] Train Loss: 0.92400  -  Validation Loss: 0.91864\n",
      "[2023-06-14 18:25:59] [Epoch 142] Train Loss: 0.92392  -  Validation Loss: 0.91844\n",
      "[2023-06-14 18:26:34] [Epoch 143] Train Loss: 0.92384  -  Validation Loss: 0.91817\n",
      "[2023-06-14 18:27:08] [Epoch 144] Train Loss: 0.92375  -  Validation Loss: 0.91819\n",
      "[2023-06-14 18:27:42] [Epoch 145] Train Loss: 0.92365  -  Validation Loss: 0.91804\n",
      "[2023-06-14 18:28:16] [Epoch 146] Train Loss: 0.92362  -  Validation Loss: 0.91804\n",
      "[2023-06-14 18:28:50] [Epoch 147] Train Loss: 0.92351  -  Validation Loss: 0.91795\n",
      "[2023-06-14 18:29:24] [Epoch 148] Train Loss: 0.92342  -  Validation Loss: 0.91782\n",
      "[2023-06-14 18:29:58] [Epoch 149] Train Loss: 0.92334  -  Validation Loss: 0.91777\n",
      "[2023-06-14 18:30:33] [Epoch 150] Train Loss: 0.92331  -  Validation Loss: 0.91767\n",
      "[2023-06-14 18:31:07] [Epoch 151] Train Loss: 0.92320  -  Validation Loss: 0.91785\n",
      "[2023-06-14 18:31:41] [Epoch 152] Train Loss: 0.92314  -  Validation Loss: 0.91749\n",
      "[2023-06-14 18:32:15] [Epoch 153] Train Loss: 0.92306  -  Validation Loss: 0.91738\n",
      "[2023-06-14 18:32:50] [Epoch 154] Train Loss: 0.92300  -  Validation Loss: 0.91747\n",
      "[2023-06-14 18:33:24] [Epoch 155] Train Loss: 0.92293  -  Validation Loss: 0.91724\n",
      "[2023-06-14 18:33:58] [Epoch 156] Train Loss: 0.92288  -  Validation Loss: 0.91738\n",
      "[2023-06-14 18:34:32] [Epoch 157] Train Loss: 0.92278  -  Validation Loss: 0.91733\n",
      "[2023-06-14 18:35:06] [Epoch 158] Train Loss: 0.92277  -  Validation Loss: 0.91744\n",
      "[2023-06-14 18:35:41] [Epoch 159] Train Loss: 0.92267  -  Validation Loss: 0.91688\n",
      "[2023-06-14 18:36:15] [Epoch 160] Train Loss: 0.92261  -  Validation Loss: 0.91692\n",
      "[2023-06-14 18:36:49] [Epoch 161] Train Loss: 0.92254  -  Validation Loss: 0.91705\n",
      "[2023-06-14 18:37:23] [Epoch 162] Train Loss: 0.92252  -  Validation Loss: 0.91684\n",
      "[2023-06-14 18:37:57] [Epoch 163] Train Loss: 0.92246  -  Validation Loss: 0.91679\n",
      "[2023-06-14 18:38:31] [Epoch 164] Train Loss: 0.92239  -  Validation Loss: 0.91665\n",
      "[2023-06-14 18:39:05] [Epoch 165] Train Loss: 0.92234  -  Validation Loss: 0.91672\n",
      "[2023-06-14 18:39:39] [Epoch 166] Train Loss: 0.92227  -  Validation Loss: 0.91650\n",
      "[2023-06-14 18:40:13] [Epoch 167] Train Loss: 0.92225  -  Validation Loss: 0.91678\n",
      "[2023-06-14 18:40:47] [Epoch 168] Train Loss: 0.92219  -  Validation Loss: 0.91646\n",
      "[2023-06-14 18:41:21] [Epoch 169] Train Loss: 0.92214  -  Validation Loss: 0.91654\n",
      "[2023-06-14 18:41:55] [Epoch 170] Train Loss: 0.92206  -  Validation Loss: 0.91650\n",
      "[2023-06-14 18:42:29] [Epoch 171] Train Loss: 0.92205  -  Validation Loss: 0.91648\n",
      "[2023-06-14 18:43:03] [Epoch 172] Train Loss: 0.92196  -  Validation Loss: 0.91627\n",
      "[2023-06-14 18:43:37] [Epoch 173] Train Loss: 0.92195  -  Validation Loss: 0.91621\n",
      "[2023-06-14 18:44:11] [Epoch 174] Train Loss: 0.92190  -  Validation Loss: 0.91621\n",
      "[2023-06-14 18:44:45] [Epoch 175] Train Loss: 0.92187  -  Validation Loss: 0.91630\n",
      "[2023-06-14 18:45:20] [Epoch 176] Train Loss: 0.92179  -  Validation Loss: 0.91622\n",
      "[2023-06-14 18:45:54] [Epoch 177] Train Loss: 0.92180  -  Validation Loss: 0.91605\n",
      "[2023-06-14 18:46:28] [Epoch 178] Train Loss: 0.92173  -  Validation Loss: 0.91619\n",
      "[2023-06-14 18:47:02] [Epoch 179] Train Loss: 0.92169  -  Validation Loss: 0.91646\n",
      "[2023-06-14 18:47:36] [Epoch 180] Train Loss: 0.92165  -  Validation Loss: 0.91608\n",
      "[2023-06-14 18:48:10] [Epoch 181] Train Loss: 0.92159  -  Validation Loss: 0.91587\n",
      "[2023-06-14 18:48:45] [Epoch 182] Train Loss: 0.92156  -  Validation Loss: 0.91598\n",
      "[2023-06-14 18:49:19] [Epoch 183] Train Loss: 0.92153  -  Validation Loss: 0.91602\n",
      "[2023-06-14 18:49:53] [Epoch 184] Train Loss: 0.92150  -  Validation Loss: 0.91590\n",
      "[2023-06-14 18:50:27] [Epoch 185] Train Loss: 0.92146  -  Validation Loss: 0.91580\n",
      "[2023-06-14 18:51:01] [Epoch 186] Train Loss: 0.92141  -  Validation Loss: 0.91575\n",
      "[2023-06-14 18:51:36] [Epoch 187] Train Loss: 0.92139  -  Validation Loss: 0.91597\n",
      "[2023-06-14 18:52:10] [Epoch 188] Train Loss: 0.92134  -  Validation Loss: 0.91587\n",
      "[2023-06-14 18:52:44] [Epoch 189] Train Loss: 0.92131  -  Validation Loss: 0.91570\n",
      "[2023-06-14 18:53:19] [Epoch 190] Train Loss: 0.92129  -  Validation Loss: 0.91586\n",
      "[2023-06-14 18:53:53] [Epoch 191] Train Loss: 0.92125  -  Validation Loss: 0.91566\n",
      "[2023-06-14 18:54:28] [Epoch 192] Train Loss: 0.92123  -  Validation Loss: 0.91572\n",
      "[2023-06-14 18:55:02] [Epoch 193] Train Loss: 0.92119  -  Validation Loss: 0.91560\n",
      "[2023-06-14 18:55:36] [Epoch 194] Train Loss: 0.92114  -  Validation Loss: 0.91561\n",
      "[2023-06-14 18:56:10] [Epoch 195] Train Loss: 0.92114  -  Validation Loss: 0.91561\n",
      "[2023-06-14 18:56:45] [Epoch 196] Train Loss: 0.92109  -  Validation Loss: 0.91556\n",
      "[2023-06-14 18:57:19] [Epoch 197] Train Loss: 0.92106  -  Validation Loss: 0.91545\n",
      "[2023-06-14 18:57:54] [Epoch 198] Train Loss: 0.92105  -  Validation Loss: 0.91552\n",
      "[2023-06-14 18:58:28] [Epoch 199] Train Loss: 0.92101  -  Validation Loss: 0.91543\n",
      "[2023-06-14 18:59:03] [Epoch 200] Train Loss: 0.92099  -  Validation Loss: 0.91567\n",
      "[2023-06-14 18:59:37] [Epoch 201] Train Loss: 0.92097  -  Validation Loss: 0.91546\n",
      "[2023-06-14 19:00:12] [Epoch 202] Train Loss: 0.92093  -  Validation Loss: 0.91538\n",
      "[2023-06-14 19:00:46] [Epoch 203] Train Loss: 0.92091  -  Validation Loss: 0.91570\n",
      "[2023-06-14 19:01:21] [Epoch 204] Train Loss: 0.92088  -  Validation Loss: 0.91542\n",
      "[2023-06-14 19:01:55] [Epoch 205] Train Loss: 0.92087  -  Validation Loss: 0.91528\n",
      "[2023-06-14 19:02:30] [Epoch 206] Train Loss: 0.92083  -  Validation Loss: 0.91536\n",
      "[2023-06-14 19:03:05] [Epoch 207] Train Loss: 0.92081  -  Validation Loss: 0.91533\n",
      "[2023-06-14 19:03:39] [Epoch 208] Train Loss: 0.92078  -  Validation Loss: 0.91540\n",
      "[2023-06-14 19:04:14] [Epoch 209] Train Loss: 0.92077  -  Validation Loss: 0.91562\n",
      "[2023-06-14 19:04:48] [Epoch 210] Train Loss: 0.92075  -  Validation Loss: 0.91520\n",
      "[2023-06-14 19:05:23] [Epoch 211] Train Loss: 0.92072  -  Validation Loss: 0.91521\n",
      "[2023-06-14 19:06:01] [Epoch 212] Train Loss: 0.92070  -  Validation Loss: 0.91516\n",
      "[2023-06-14 19:06:39] [Epoch 213] Train Loss: 0.92068  -  Validation Loss: 0.91513\n",
      "[2023-06-14 19:07:17] [Epoch 214] Train Loss: 0.92066  -  Validation Loss: 0.91508\n",
      "[2023-06-14 19:07:54] [Epoch 215] Train Loss: 0.92064  -  Validation Loss: 0.91511\n",
      "[2023-06-14 19:08:31] [Epoch 216] Train Loss: 0.92062  -  Validation Loss: 0.91510\n",
      "[2023-06-14 19:09:08] [Epoch 217] Train Loss: 0.92060  -  Validation Loss: 0.91519\n",
      "[2023-06-14 19:09:45] [Epoch 218] Train Loss: 0.92058  -  Validation Loss: 0.91506\n",
      "[2023-06-14 19:10:23] [Epoch 219] Train Loss: 0.92058  -  Validation Loss: 0.91508\n",
      "[2023-06-14 19:11:00] [Epoch 220] Train Loss: 0.92054  -  Validation Loss: 0.91507\n",
      "[2023-06-14 19:11:37] [Epoch 221] Train Loss: 0.92052  -  Validation Loss: 0.91505\n",
      "[2023-06-14 19:12:15] [Epoch 222] Train Loss: 0.92051  -  Validation Loss: 0.91498\n",
      "[2023-06-14 19:12:52] [Epoch 223] Train Loss: 0.92050  -  Validation Loss: 0.91503\n",
      "[2023-06-14 19:13:30] [Epoch 224] Train Loss: 0.92048  -  Validation Loss: 0.91500\n",
      "[2023-06-14 19:14:07] [Epoch 225] Train Loss: 0.92046  -  Validation Loss: 0.91506\n",
      "[2023-06-14 19:14:44] [Epoch 226] Train Loss: 0.92044  -  Validation Loss: 0.91494\n",
      "[2023-06-14 19:15:21] [Epoch 227] Train Loss: 0.92042  -  Validation Loss: 0.91489\n",
      "[2023-06-14 19:15:58] [Epoch 228] Train Loss: 0.92042  -  Validation Loss: 0.91498\n",
      "[2023-06-14 19:16:35] [Epoch 229] Train Loss: 0.92039  -  Validation Loss: 0.91489\n",
      "[2023-06-14 19:17:12] [Epoch 230] Train Loss: 0.92039  -  Validation Loss: 0.91488\n",
      "[2023-06-14 19:17:49] [Epoch 231] Train Loss: 0.92037  -  Validation Loss: 0.91490\n",
      "[2023-06-14 19:18:26] [Epoch 232] Train Loss: 0.92036  -  Validation Loss: 0.91495\n",
      "[2023-06-14 19:19:04] [Epoch 233] Train Loss: 0.92034  -  Validation Loss: 0.91489\n",
      "[2023-06-14 19:19:42] [Epoch 234] Train Loss: 0.92032  -  Validation Loss: 0.91482\n",
      "[2023-06-14 19:20:20] [Epoch 235] Train Loss: 0.92032  -  Validation Loss: 0.91495\n",
      "[2023-06-14 19:20:57] [Epoch 236] Train Loss: 0.92029  -  Validation Loss: 0.91479\n",
      "[2023-06-14 19:21:35] [Epoch 237] Train Loss: 0.92029  -  Validation Loss: 0.91488\n",
      "[2023-06-14 19:22:12] [Epoch 238] Train Loss: 0.92028  -  Validation Loss: 0.91477\n",
      "[2023-06-14 19:22:49] [Epoch 239] Train Loss: 0.92025  -  Validation Loss: 0.91473\n",
      "[2023-06-14 19:23:26] [Epoch 240] Train Loss: 0.92025  -  Validation Loss: 0.91477\n",
      "[2023-06-14 19:24:03] [Epoch 241] Train Loss: 0.92023  -  Validation Loss: 0.91476\n",
      "[2023-06-14 19:24:40] [Epoch 242] Train Loss: 0.92022  -  Validation Loss: 0.91480\n",
      "[2023-06-14 19:25:16] [Epoch 243] Train Loss: 0.92020  -  Validation Loss: 0.91472\n",
      "[2023-06-14 19:25:54] [Epoch 244] Train Loss: 0.92021  -  Validation Loss: 0.91475\n",
      "[2023-06-14 19:26:30] [Epoch 245] Train Loss: 0.92018  -  Validation Loss: 0.91470\n",
      "[2023-06-14 19:27:05] [Epoch 246] Train Loss: 0.92019  -  Validation Loss: 0.91472\n",
      "[2023-06-14 19:27:40] [Epoch 247] Train Loss: 0.92017  -  Validation Loss: 0.91469\n",
      "[2023-06-14 19:28:15] [Epoch 248] Train Loss: 0.92016  -  Validation Loss: 0.91469\n",
      "[2023-06-14 19:28:50] [Epoch 249] Train Loss: 0.92014  -  Validation Loss: 0.91475\n",
      "[2023-06-14 19:29:25] [Epoch 250] Train Loss: 0.92014  -  Validation Loss: 0.91469\n",
      "[2023-06-14 19:29:59] [Epoch 251] Train Loss: 0.92013  -  Validation Loss: 0.91464\n",
      "[2023-06-14 19:30:34] [Epoch 252] Train Loss: 0.92012  -  Validation Loss: 0.91464\n",
      "[2023-06-14 19:31:09] [Epoch 253] Train Loss: 0.92011  -  Validation Loss: 0.91461\n",
      "[2023-06-14 19:31:44] [Epoch 254] Train Loss: 0.92010  -  Validation Loss: 0.91471\n",
      "[2023-06-14 19:32:18] [Epoch 255] Train Loss: 0.92009  -  Validation Loss: 0.91462\n",
      "[2023-06-14 19:32:54] [Epoch 256] Train Loss: 0.92008  -  Validation Loss: 0.91459\n",
      "[2023-06-14 19:33:28] [Epoch 257] Train Loss: 0.92007  -  Validation Loss: 0.91464\n",
      "[2023-06-14 19:34:03] [Epoch 258] Train Loss: 0.92006  -  Validation Loss: 0.91460\n",
      "[2023-06-14 19:34:38] [Epoch 259] Train Loss: 0.92005  -  Validation Loss: 0.91461\n",
      "[2023-06-14 19:35:13] [Epoch 260] Train Loss: 0.92004  -  Validation Loss: 0.91460\n",
      "[2023-06-14 19:35:47] [Epoch 261] Train Loss: 0.92004  -  Validation Loss: 0.91456\n",
      "[2023-06-14 19:36:22] [Epoch 262] Train Loss: 0.92003  -  Validation Loss: 0.91459\n",
      "[2023-06-14 19:36:56] [Epoch 263] Train Loss: 0.92002  -  Validation Loss: 0.91453\n",
      "[2023-06-14 19:37:31] [Epoch 264] Train Loss: 0.92001  -  Validation Loss: 0.91453\n",
      "[2023-06-14 19:38:06] [Epoch 265] Train Loss: 0.92000  -  Validation Loss: 0.91455\n",
      "[2023-06-14 19:38:40] [Epoch 266] Train Loss: 0.91999  -  Validation Loss: 0.91452\n",
      "[2023-06-14 19:39:15] [Epoch 267] Train Loss: 0.91999  -  Validation Loss: 0.91465\n",
      "[2023-06-14 19:39:49] [Epoch 268] Train Loss: 0.91999  -  Validation Loss: 0.91453\n",
      "[2023-06-14 19:40:24] [Epoch 269] Train Loss: 0.91998  -  Validation Loss: 0.91466\n",
      "[2023-06-14 19:40:58] [Epoch 270] Train Loss: 0.91997  -  Validation Loss: 0.91448\n",
      "[2023-06-14 19:41:33] [Epoch 271] Train Loss: 0.91996  -  Validation Loss: 0.91455\n",
      "[2023-06-14 19:42:07] [Epoch 272] Train Loss: 0.91996  -  Validation Loss: 0.91449\n",
      "[2023-06-14 19:42:41] [Epoch 273] Train Loss: 0.91994  -  Validation Loss: 0.91449\n",
      "[2023-06-14 19:43:16] [Epoch 274] Train Loss: 0.91994  -  Validation Loss: 0.91449\n",
      "[2023-06-14 19:43:50] [Epoch 275] Train Loss: 0.91994  -  Validation Loss: 0.91447\n",
      "[2023-06-14 19:44:25] [Epoch 276] Train Loss: 0.91993  -  Validation Loss: 0.91452\n",
      "[2023-06-14 19:44:59] [Epoch 277] Train Loss: 0.91993  -  Validation Loss: 0.91446\n",
      "[2023-06-14 19:45:33] [Epoch 278] Train Loss: 0.91992  -  Validation Loss: 0.91448\n",
      "[2023-06-14 19:46:08] [Epoch 279] Train Loss: 0.91991  -  Validation Loss: 0.91445\n",
      "[2023-06-14 19:46:42] [Epoch 280] Train Loss: 0.91991  -  Validation Loss: 0.91449\n",
      "[2023-06-14 19:47:16] [Epoch 281] Train Loss: 0.91991  -  Validation Loss: 0.91447\n",
      "[2023-06-14 19:47:51] [Epoch 282] Train Loss: 0.91990  -  Validation Loss: 0.91444\n",
      "[2023-06-14 19:48:25] [Epoch 283] Train Loss: 0.91989  -  Validation Loss: 0.91444\n",
      "[2023-06-14 19:48:59] [Epoch 284] Train Loss: 0.91989  -  Validation Loss: 0.91445\n",
      "[2023-06-14 19:49:33] [Epoch 285] Train Loss: 0.91988  -  Validation Loss: 0.91447\n",
      "[2023-06-14 19:50:07] [Epoch 286] Train Loss: 0.91988  -  Validation Loss: 0.91443\n",
      "[2023-06-14 19:50:41] [Epoch 287] Train Loss: 0.91988  -  Validation Loss: 0.91443\n",
      "[2023-06-14 19:51:16] [Epoch 288] Train Loss: 0.91987  -  Validation Loss: 0.91444\n",
      "[2023-06-14 19:51:50] [Epoch 289] Train Loss: 0.91986  -  Validation Loss: 0.91443\n",
      "[2023-06-14 19:52:24] [Epoch 290] Train Loss: 0.91986  -  Validation Loss: 0.91443\n",
      "[2023-06-14 19:52:58] [Epoch 291] Train Loss: 0.91986  -  Validation Loss: 0.91439\n",
      "[2023-06-14 19:53:32] [Epoch 292] Train Loss: 0.91985  -  Validation Loss: 0.91442\n",
      "[2023-06-14 19:54:06] [Epoch 293] Train Loss: 0.91985  -  Validation Loss: 0.91440\n",
      "[2023-06-14 19:54:40] [Epoch 294] Train Loss: 0.91985  -  Validation Loss: 0.91441\n",
      "[2023-06-14 19:55:14] [Epoch 295] Train Loss: 0.91984  -  Validation Loss: 0.91441\n",
      "[2023-06-14 19:55:48] [Epoch 296] Train Loss: 0.91983  -  Validation Loss: 0.91441\n",
      "[2023-06-14 19:56:22] [Epoch 297] Train Loss: 0.91983  -  Validation Loss: 0.91440\n",
      "[2023-06-14 19:56:56] [Epoch 298] Train Loss: 0.91982  -  Validation Loss: 0.91438\n",
      "[2023-06-14 19:57:31] [Epoch 299] Train Loss: 0.91982  -  Validation Loss: 0.91437\n"
     ]
    }
   ],
   "source": [
    "epochs = 300\n",
    "train_loss_arr, val_loss_arr = [], []\n",
    "\n",
    "for epoch in range(epochs):\n",
    "    train_loss = 0.\n",
    "    model.train()\n",
    "    for images, _ in dataloader:\n",
    "        images = images.to(device)\n",
    "        \n",
    "        output = model(images)\n",
    "\n",
    "        nll = F.cross_entropy(output, images, reduction='none')\n",
    "        bpd = nll.mean(dim=[1, 2, 3]) * np.log2(np.exp(1))\n",
    "        loss = bpd.mean()\n",
    "\n",
    "        opt.zero_grad()\n",
    "        loss.backward()\n",
    "        opt.step()\n",
    "\n",
    "        train_loss += images.shape[0] * loss.item()\n",
    "    scheduler.step()\n",
    "\n",
    "    val_loss = 0.\n",
    "    model.eval()\n",
    "    for images, _ in val_dataloader:\n",
    "        images = images.to(device)\n",
    "        \n",
    "        output = model(images)\n",
    "\n",
    "        nll = F.cross_entropy(output, images, reduction='none')\n",
    "        bpd = nll.mean(dim=[1, 2, 3]) * np.log2(np.exp(1))\n",
    "        loss = bpd.mean()\n",
    "\n",
    "        val_loss += images.shape[0] * loss.item()\n",
    "\n",
    "    train_loss /= len(dataloader.dataset)\n",
    "    val_loss /= len(val_dataloader.dataset)\n",
    "\n",
    "    train_loss_arr.append(train_loss)\n",
    "    val_loss_arr.append(val_loss)\n",
    "\n",
    "    print(f'[{datetime.now().strftime(\"%Y-%m-%d %H:%M:%S\")}] [Epoch {epoch:3d}] Train Loss: {train_loss:.5f}  -  Validation Loss: {val_loss:.5f}')\n"
   ]
  },
  {
   "cell_type": "code",
   "execution_count": 18,
   "metadata": {},
   "outputs": [],
   "source": [
    "torch.save(model.state_dict(), 'pixelcnn.pth')\n",
    "\n",
    "# model = PixelCNN(\n",
    "#     in_channels=1,\n",
    "#     hidden_channels=20,\n",
    "#     input_transform=transforms.Lambda(lambda x: (x.float() / 255.0) * 2 - 1)\n",
    "# )\n",
    "# model.load_state_dict(torch.load('model.pth'))\n",
    "# model = model.to(device)"
   ]
  },
  {
   "cell_type": "code",
   "execution_count": 19,
   "metadata": {},
   "outputs": [
    {
     "data": {
      "image/png": "[encoded data removed]",
      "text/plain": [
       "<Figure size 800x500 with 1 Axes>"
      ]
     },
     "metadata": {},
     "output_type": "display_data"
    }
   ],
   "source": [
    "plt.figure(figsize=(8, 5))\n",
    "plt.plot(train_loss_arr)\n",
    "plt.plot(val_loss_arr)\n",
    "plt.legend(['Train Loss', 'Validation Loss'])\n",
    "plt.show();"
   ]
  },
  {
   "cell_type": "code",
   "execution_count": 20,
   "metadata": {},
   "outputs": [],
   "source": [
    "def sample_image(model, img_shape, device):\n",
    "    img = torch.zeros(img_shape).to(device)\n",
    "\n",
    "    _, C, H, W = img_shape\n",
    "    for h in range(H):\n",
    "        for w in range(W):\n",
    "            for c in range(C):\n",
    "                pred = model(img[:, :, :h+1, :])\n",
    "                prob = F.softmax(pred[:, :, c, h, w], dim=-1)\n",
    "                img[:, c, h, w] = torch.multinomial(prob, num_samples=1).squeeze(-1)\n",
    "    \n",
    "    return img"
   ]
  },
  {
   "cell_type": "code",
   "execution_count": 21,
   "metadata": {},
   "outputs": [
    {
     "data": {
      "image/png": "[encoded data removed]",
      "text/plain": [
       "<Figure size 640x480 with 1 Axes>"
      ]
     },
     "metadata": {},
     "output_type": "display_data"
    }
   ],
   "source": [
    "model.eval()\n",
    "sample = sample_image(model, (1, 1, 28, 28), device)\n",
    "plt.imshow(sample[0].detach().cpu().permute(1, 2, 0), cmap='gray');"
   ]
  },
  {
   "cell_type": "code",
   "execution_count": 22,
   "metadata": {},
   "outputs": [
    {
     "data": {
      "image/png": "[encoded data removed]",
      "text/plain": [
       "<Figure size 640x480 with 1 Axes>"
      ]
     },
     "metadata": {},
     "output_type": "display_data"
    }
   ],
   "source": [
    "plt.imshow(\n",
    "    torchvision.utils.make_grid(\n",
    "        sample_image(model, (16, 1, 28, 28), device).detach().cpu(),\n",
    "        nrow=4,\n",
    "        pad_value=128\n",
    "    ).permute(1, 2, 0).clamp(0, 255).type(torch.int)\n",
    ");"
   ]
  },
  {
   "cell_type": "code",
   "execution_count": 24,
   "metadata": {},
   "outputs": [],
   "source": [
    "def autocomplete_img(model, img):\n",
    "    _, C, H, W = img.shape\n",
    "    for h in range(H):\n",
    "        for w in range(W):\n",
    "            for c in range(C):\n",
    "                if (img[:, c, h, w] != -1).all().item():\n",
    "                    continue\n",
    "                pred = model(img[:, :, :h+1, :])\n",
    "                prob = F.softmax(pred[:, :, c, h, w], dim=-1)\n",
    "                img[:, c, h, w] = torch.multinomial(prob, num_samples=1).squeeze(-1)\n",
    "    \n",
    "    return img"
   ]
  },
  {
   "cell_type": "code",
   "execution_count": 25,
   "metadata": {},
   "outputs": [],
   "source": [
    "original_images = torch.stack([dataset[i][0] for i in range(10)])\n",
    "\n",
    "incompleted_images = original_images.clone()\n",
    "incompleted_images[:, :, 10:, :] = -1\n",
    "\n",
    "completed_images = autocomplete_img(model, incompleted_images.to(device))"
   ]
  },
  {
   "cell_type": "code",
   "execution_count": 27,
   "metadata": {},
   "outputs": [
    {
     "data": {
      "image/png": "[encoded data removed]",
      "text/plain": [
       "<Figure size 600x2000 with 30 Axes>"
      ]
     },
     "metadata": {},
     "output_type": "display_data"
    }
   ],
   "source": [
    "N = completed_images.shape[0]\n",
    "fig, axs = plt.subplots(N, 3, figsize=(6, 2*N))\n",
    "axs[0][0].set_title(\"Original\")\n",
    "axs[0][1].set_title(\"Incomplete\")\n",
    "axs[0][2].set_title(\"Completed\")\n",
    "for i in range(N):\n",
    "    for j in range(3):\n",
    "        axs[i][j].axis('off')\n",
    "    axs[i][0].imshow(original_images[i].permute(1, 2, 0), cmap='gray');\n",
    "    axs[i][1].imshow(incompleted_images[i].permute(1, 2, 0), cmap='gray');\n",
    "    axs[i][2].imshow(completed_images[i].detach().cpu().permute(1, 2, 0), cmap='gray')\n",
    "plt.tight_layout(pad=0.5);"
   ]
  },
  {
   "cell_type": "code",
   "execution_count": null,
   "metadata": {},
   "outputs": [],
   "source": []
  }
 ],
 "metadata": {
  "kernelspec": {
   "display_name": ".venv",
   "language": "python",
   "name": "python3"
  },
  "language_info": {
   "codemirror_mode": {
    "name": "ipython",
    "version": 3
   },
   "file_extension": ".py",
   "mimetype": "text/x-python",
   "name": "python",
   "nbconvert_exporter": "python",
   "pygments_lexer": "ipython3",
   "version": "3.7.9"
  },
  "orig_nbformat": 4
 },
 "nbformat": 4,
 "nbformat_minor": 2
}
